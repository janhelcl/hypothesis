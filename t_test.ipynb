{
 "cells": [
  {
   "cell_type": "code",
   "execution_count": 1,
   "metadata": {},
   "outputs": [],
   "source": [
    "import numpy as np\n",
    "from scipy import stats\n",
    "import matplotlib.pyplot as plt\n",
    "import seaborn as sns\n",
    "import ipywidgets as widgets"
   ]
  },
  {
   "cell_type": "code",
   "execution_count": 2,
   "metadata": {},
   "outputs": [],
   "source": [
    "def t_test(a, b):\n",
    "    \"\"\"\n",
    "    two-sided Student's t test\n",
    "    \"\"\"\n",
    "    mean1, mean2 = np.mean(a), np.mean(b)\n",
    "    s1, s2 = np.std(a, ddof=1), np.std(b, ddof=1)\n",
    "    n1, n2 = len(a), len(b)\n",
    "    \n",
    "    df = n1+n2-2\n",
    "    sp = np.sqrt(((n1-1)*(s1**2)+(n2-1)*(s2**2))/df)\n",
    "    t = (mean1-mean2)/(sp*np.sqrt(1/n1+1/n2))\n",
    "    p_value = (1-stats.t.cdf(abs(t), df))*2\n",
    "    return t, p_value\n",
    "\n",
    "def approx_t_test(a, b):\n",
    "    \"\"\"\n",
    "    two-sided t test approximated by z test\n",
    "    \"\"\"\n",
    "    mean1, mean2 = np.mean(a), np.mean(b)\n",
    "    s1, s2 = np.std(a, ddof=1), np.std(b, ddof=1)\n",
    "    n1, n2 = len(a), len(b)\n",
    "    \n",
    "    se1, se2 = s1/np.sqrt(n1), s2/np.sqrt(n2)\n",
    "    se = np.sqrt(se1**2+se2**2)\n",
    "    z = (mean1-mean2)/se\n",
    "    p_value = (1-stats.norm.cdf(abs(z)))*2\n",
    "    return z, p_value\n",
    "\n",
    "def welch_test(a, b):\n",
    "    \"\"\"\n",
    "    two-sided Welch's t test\n",
    "    \"\"\"\n",
    "    mean1, mean2 = np.mean(a), np.mean(b)\n",
    "    s1, s2 = np.std(a, ddof=1), np.std(b, ddof=1)\n",
    "    n1, n2 = len(a), len(b)\n",
    "    \n",
    "    sn1, sn2 = s1**2/n1, s2**2/n2\n",
    "    df = (sn1+sn2)**2/(sn1**2/(n1-1)+sn2**2/(n2-1))\n",
    "    t = (mean1-mean2)/np.sqrt(sn1+sn2)\n",
    "    p_value = (1-stats.t.cdf(abs(t), df))*2\n",
    "    return t, p_value\n",
    "\n",
    "def simulate(mu1,\n",
    "             mu2,\n",
    "             sigma1,\n",
    "             sigma2, \n",
    "             n1,\n",
    "             n2,\n",
    "             n_simul=1_000,\n",
    "             tests=[approx_t_test, t_test, welch_test]\n",
    "            ):\n",
    "    \"\"\"\n",
    "    Draw random samples from normal distribution and apply the tests\n",
    "    \"\"\"\n",
    "    results = {}\n",
    "    for _ in range(n_simul):\n",
    "        sample1 = np.random.normal(mu1, sigma1, n1)\n",
    "        sample2 = np.random.normal(mu2, sigma2, n2)\n",
    "        for test in tests:\n",
    "            stat, p_value = test(sample1, sample2)\n",
    "            res = results.setdefault(test.__name__, {'stats': [], 'p_values': []})\n",
    "            res['stats'].append(stat)\n",
    "            res['p_values'].append(p_value)\n",
    "    return results\n",
    "\n",
    "def plot(results, alpha=0.05):\n",
    "    \"\"\"\n",
    "    Plot distributions of test statistics and p values\n",
    "    \"\"\"\n",
    "    for test in results:\n",
    "        fig, (ax1, ax2) = plt.subplots(1, 2, figsize=(15, 5))\n",
    "        fig.suptitle(test)\n",
    "        ax1.set_title('Distribution of test statistic')\n",
    "        sns.distplot(results[test]['stats'], kde=False, norm_hist=True, ax=ax1, fit=stats.norm)\n",
    "        ax2.set_title('Distribution of p value')\n",
    "        sns.distplot(results[test]['p_values'], kde=False, norm_hist=True, ax=ax2)\n",
    "        rejected = round((np.array(results[test]['p_values']) < alpha).mean() * 100, 1)\n",
    "        text = f'H0 rejected in {rejected}% cases (alpha={alpha})'\n",
    "        ax2.text(0.99, 0.95, text, transform=ax2.transAxes, horizontalalignment='right')\n",
    "        \n",
    "def run(mu1, mu2, sigma1, sigma2, n1, n2):\n",
    "    plot(simulate(mu1, mu2, sigma1, sigma2, n1, n2))\n",
    "    \n",
    "simulation = widgets.interactive(\n",
    "    run, \n",
    "    {'manual': True},\n",
    "    mu1=widgets.FloatSlider(min=-5, max=5, step=0.1, value=0),\n",
    "    mu2=widgets.FloatSlider(min=-5, max=5, step=0.1, value=0),\n",
    "    sigma1=widgets.FloatSlider(min=0.1, max=5, step=0.1, value=1),\n",
    "    sigma2=widgets.FloatSlider(min=0.1, max=5, step=0.1, value=1),\n",
    "    n1=widgets.IntSlider(min=10, max=10_000, step=1, value=30),\n",
    "    n2=widgets.IntSlider(min=10, max=10_000, step=1, value=30)\n",
    ")"
   ]
  },
  {
   "cell_type": "markdown",
   "metadata": {},
   "source": [
    "### Run simulation interactively"
   ]
  },
  {
   "cell_type": "code",
   "execution_count": 3,
   "metadata": {},
   "outputs": [
    {
     "data": {
      "application/vnd.jupyter.widget-view+json": {
       "model_id": "300bf9cf68354bd8b5b8b6189689ba47",
       "version_major": 2,
       "version_minor": 0
      },
      "text/plain": [
       "interactive(children=(FloatSlider(value=0.0, description='mu1', max=5.0, min=-5.0), FloatSlider(value=0.0, des…"
      ]
     },
     "metadata": {},
     "output_type": "display_data"
    }
   ],
   "source": [
    "simulation"
   ]
  }
 ],
 "metadata": {
  "kernelspec": {
   "display_name": "Python 3",
   "language": "python",
   "name": "python3"
  },
  "language_info": {
   "codemirror_mode": {
    "name": "ipython",
    "version": 3
   },
   "file_extension": ".py",
   "mimetype": "text/x-python",
   "name": "python",
   "nbconvert_exporter": "python",
   "pygments_lexer": "ipython3",
   "version": "3.7.6"
  }
 },
 "nbformat": 4,
 "nbformat_minor": 4
}
